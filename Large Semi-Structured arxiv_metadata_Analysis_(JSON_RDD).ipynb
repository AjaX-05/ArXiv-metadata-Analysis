{
 "cells": [
  {
   "cell_type": "markdown",
   "metadata": {
    "id": "9nrTNalW81Uo"
   },
   "source": [
    "# **Arxiv metadata Analytics with PySpark RDD: JSON case study**\n"
   ]
  },
  {
   "cell_type": "code",
   "execution_count": 1,
   "metadata": {},
   "outputs": [],
   "source": [
    "!pip3 install -q pyspark\n",
    "!pip3 install -q findspark"
   ]
  },
  {
   "cell_type": "code",
   "execution_count": 2,
   "metadata": {},
   "outputs": [],
   "source": [
    "import findspark\n",
    "findspark.init()"
   ]
  },
  {
   "cell_type": "code",
   "execution_count": 3,
   "metadata": {
    "id": "06d5GLeN81Ut"
   },
   "outputs": [],
   "source": [
    "# Initializing Spark\n",
    "\n",
    "from pyspark import SparkConf, SparkContext\n",
    "config = SparkConf().setAppName(\"Arxiv metadata Analytics with RDD\").setMaster(\"local[*]\")\n",
    "sc = SparkContext(conf=config)\n"
   ]
  },
  {
   "cell_type": "code",
   "execution_count": 4,
   "metadata": {},
   "outputs": [
    {
     "data": {
      "text/html": [
       "\n",
       "        <div>\n",
       "            <p><b>SparkContext</b></p>\n",
       "\n",
       "            <p><a href=\"http://192.168.77.148:4040\">Spark UI</a></p>\n",
       "\n",
       "            <dl>\n",
       "              <dt>Version</dt>\n",
       "                <dd><code>v3.0.0</code></dd>\n",
       "              <dt>Master</dt>\n",
       "                <dd><code>local[*]</code></dd>\n",
       "              <dt>AppName</dt>\n",
       "                <dd><code>Arxiv metadata Analytics with RDD</code></dd>\n",
       "            </dl>\n",
       "        </div>\n",
       "        "
      ],
      "text/plain": [
       "<SparkContext master=local[*] appName=Arxiv metadata Analytics with RDD>"
      ]
     },
     "execution_count": 4,
     "metadata": {},
     "output_type": "execute_result"
    }
   ],
   "source": [
    "sc"
   ]
  },
  {
   "cell_type": "code",
   "execution_count": 5,
   "metadata": {
    "id": "UGorHKN581Uu"
   },
   "outputs": [
    {
     "data": {
      "text/plain": [
       "[{'id': '0704.0001',\n",
       "  'submitter': 'Pavel Nadolsky',\n",
       "  'authors': \"C. Bal\\\\'azs, E. L. Berger, P. M. Nadolsky, C.-P. Yuan\",\n",
       "  'title': 'Calculation of prompt diphoton production cross sections at Tevatron and\\n  LHC energies',\n",
       "  'comments': '37 pages, 15 figures; published version',\n",
       "  'journal-ref': 'Phys.Rev.D76:013009,2007',\n",
       "  'doi': '10.1103/PhysRevD.76.013009',\n",
       "  'report-no': 'ANL-HEP-PR-07-12',\n",
       "  'categories': 'hep-ph',\n",
       "  'license': None,\n",
       "  'abstract': '  A fully differential calculation in perturbative quantum chromodynamics is\\npresented for the production of massive photon pairs at hadron colliders. All\\nnext-to-leading order perturbative contributions from quark-antiquark,\\ngluon-(anti)quark, and gluon-gluon subprocesses are included, as well as\\nall-orders resummation of initial-state gluon radiation valid at\\nnext-to-next-to-leading logarithmic accuracy. The region of phase space is\\nspecified in which the calculation is most reliable. Good agreement is\\ndemonstrated with data from the Fermilab Tevatron, and predictions are made for\\nmore detailed tests with CDF and DO data. Predictions are shown for\\ndistributions of diphoton pairs produced at the energy of the Large Hadron\\nCollider (LHC). Distributions of the diphoton pairs from the decay of a Higgs\\nboson are contrasted with those produced from QCD processes at the LHC, showing\\nthat enhanced sensitivity to the signal can be obtained with judicious\\nselection of events.\\n',\n",
       "  'versions': [{'version': 'v1', 'created': 'Mon, 2 Apr 2007 19:18:42 GMT'},\n",
       "   {'version': 'v2', 'created': 'Tue, 24 Jul 2007 20:10:27 GMT'}],\n",
       "  'update_date': '2008-11-26',\n",
       "  'authors_parsed': [['Balázs', 'C.', ''],\n",
       "   ['Berger', 'E. L.', ''],\n",
       "   ['Nadolsky', 'P. M.', ''],\n",
       "   ['Yuan', 'C. -P.', '']]},\n",
       " {'id': '0704.0002',\n",
       "  'submitter': 'Louis Theran',\n",
       "  'authors': 'Ileana Streinu and Louis Theran',\n",
       "  'title': 'Sparsity-certifying Graph Decompositions',\n",
       "  'comments': 'To appear in Graphs and Combinatorics',\n",
       "  'journal-ref': None,\n",
       "  'doi': None,\n",
       "  'report-no': None,\n",
       "  'categories': 'math.CO cs.CG',\n",
       "  'license': 'http://arxiv.org/licenses/nonexclusive-distrib/1.0/',\n",
       "  'abstract': '  We describe a new algorithm, the $(k,\\\\ell)$-pebble game with colors, and use\\nit obtain a characterization of the family of $(k,\\\\ell)$-sparse graphs and\\nalgorithmic solutions to a family of problems concerning tree decompositions of\\ngraphs. Special instances of sparse graphs appear in rigidity theory and have\\nreceived increased attention in recent years. In particular, our colored\\npebbles generalize and strengthen the previous results of Lee and Streinu and\\ngive a new proof of the Tutte-Nash-Williams characterization of arboricity. We\\nalso present a new decomposition that certifies sparsity based on the\\n$(k,\\\\ell)$-pebble game with colors. Our work also exposes connections between\\npebble game algorithms and previous sparse graph algorithms by Gabow, Gabow and\\nWestermann and Hendrickson.\\n',\n",
       "  'versions': [{'version': 'v1', 'created': 'Sat, 31 Mar 2007 02:26:18 GMT'},\n",
       "   {'version': 'v2', 'created': 'Sat, 13 Dec 2008 17:26:00 GMT'}],\n",
       "  'update_date': '2008-12-13',\n",
       "  'authors_parsed': [['Streinu', 'Ileana', ''], ['Theran', 'Louis', '']]}]"
      ]
     },
     "execution_count": 5,
     "metadata": {},
     "output_type": "execute_result"
    }
   ],
   "source": [
    "# Read and Load Data to Spark\n",
    "# Data source: https://www.kaggle.com/Cornell-University/arxiv/version/62\n",
    "rdd_json = sc.textFile(\"./archive/arxiv-metadata-oai-snapshot.json\",100)\n",
    "\n",
    "import json\n",
    "\n",
    "rdd = rdd_json.map(lambda x: json.loads(x))\n",
    "\n",
    "from pyspark import StorageLevel\n",
    "rdd.persist(StorageLevel.MEMORY_AND_DISK)\n",
    "rdd.take(2)"
   ]
  },
  {
   "cell_type": "code",
   "execution_count": 6,
   "metadata": {
    "id": "6O_dV30S81Uu"
   },
   "outputs": [
    {
     "name": "stdout",
     "output_type": "stream",
     "text": [
      "2\n",
      "100\n"
     ]
    }
   ],
   "source": [
    "# Check the number of parallelism and partitions:\n",
    "print(sc.defaultParallelism)\n",
    "print(rdd.getNumPartitions())"
   ]
  },
  {
   "cell_type": "markdown",
   "metadata": {
    "id": "uBgW8XMl81Uv"
   },
   "source": [
    "## Question 1: Count elements"
   ]
  },
  {
   "cell_type": "code",
   "execution_count": 7,
   "metadata": {
    "id": "NzJeaegJ81Uw"
   },
   "outputs": [
    {
     "data": {
      "text/plain": [
       "2011231"
      ]
     },
     "execution_count": 7,
     "metadata": {},
     "output_type": "execute_result"
    }
   ],
   "source": [
    "rdd.count()"
   ]
  },
  {
   "cell_type": "markdown",
   "metadata": {
    "id": "zl7nmy6S81Uw"
   },
   "source": [
    "## Question 2: Get the first two records\n"
   ]
  },
  {
   "cell_type": "code",
   "execution_count": 8,
   "metadata": {
    "id": "HG1ypizS81Ux"
   },
   "outputs": [
    {
     "data": {
      "text/plain": [
       "[{'id': '0704.0001',\n",
       "  'submitter': 'Pavel Nadolsky',\n",
       "  'authors': \"C. Bal\\\\'azs, E. L. Berger, P. M. Nadolsky, C.-P. Yuan\",\n",
       "  'title': 'Calculation of prompt diphoton production cross sections at Tevatron and\\n  LHC energies',\n",
       "  'comments': '37 pages, 15 figures; published version',\n",
       "  'journal-ref': 'Phys.Rev.D76:013009,2007',\n",
       "  'doi': '10.1103/PhysRevD.76.013009',\n",
       "  'report-no': 'ANL-HEP-PR-07-12',\n",
       "  'categories': 'hep-ph',\n",
       "  'license': None,\n",
       "  'abstract': '  A fully differential calculation in perturbative quantum chromodynamics is\\npresented for the production of massive photon pairs at hadron colliders. All\\nnext-to-leading order perturbative contributions from quark-antiquark,\\ngluon-(anti)quark, and gluon-gluon subprocesses are included, as well as\\nall-orders resummation of initial-state gluon radiation valid at\\nnext-to-next-to-leading logarithmic accuracy. The region of phase space is\\nspecified in which the calculation is most reliable. Good agreement is\\ndemonstrated with data from the Fermilab Tevatron, and predictions are made for\\nmore detailed tests with CDF and DO data. Predictions are shown for\\ndistributions of diphoton pairs produced at the energy of the Large Hadron\\nCollider (LHC). Distributions of the diphoton pairs from the decay of a Higgs\\nboson are contrasted with those produced from QCD processes at the LHC, showing\\nthat enhanced sensitivity to the signal can be obtained with judicious\\nselection of events.\\n',\n",
       "  'versions': [{'version': 'v1', 'created': 'Mon, 2 Apr 2007 19:18:42 GMT'},\n",
       "   {'version': 'v2', 'created': 'Tue, 24 Jul 2007 20:10:27 GMT'}],\n",
       "  'update_date': '2008-11-26',\n",
       "  'authors_parsed': [['Balázs', 'C.', ''],\n",
       "   ['Berger', 'E. L.', ''],\n",
       "   ['Nadolsky', 'P. M.', ''],\n",
       "   ['Yuan', 'C. -P.', '']]},\n",
       " {'id': '0704.0002',\n",
       "  'submitter': 'Louis Theran',\n",
       "  'authors': 'Ileana Streinu and Louis Theran',\n",
       "  'title': 'Sparsity-certifying Graph Decompositions',\n",
       "  'comments': 'To appear in Graphs and Combinatorics',\n",
       "  'journal-ref': None,\n",
       "  'doi': None,\n",
       "  'report-no': None,\n",
       "  'categories': 'math.CO cs.CG',\n",
       "  'license': 'http://arxiv.org/licenses/nonexclusive-distrib/1.0/',\n",
       "  'abstract': '  We describe a new algorithm, the $(k,\\\\ell)$-pebble game with colors, and use\\nit obtain a characterization of the family of $(k,\\\\ell)$-sparse graphs and\\nalgorithmic solutions to a family of problems concerning tree decompositions of\\ngraphs. Special instances of sparse graphs appear in rigidity theory and have\\nreceived increased attention in recent years. In particular, our colored\\npebbles generalize and strengthen the previous results of Lee and Streinu and\\ngive a new proof of the Tutte-Nash-Williams characterization of arboricity. We\\nalso present a new decomposition that certifies sparsity based on the\\n$(k,\\\\ell)$-pebble game with colors. Our work also exposes connections between\\npebble game algorithms and previous sparse graph algorithms by Gabow, Gabow and\\nWestermann and Hendrickson.\\n',\n",
       "  'versions': [{'version': 'v1', 'created': 'Sat, 31 Mar 2007 02:26:18 GMT'},\n",
       "   {'version': 'v2', 'created': 'Sat, 13 Dec 2008 17:26:00 GMT'}],\n",
       "  'update_date': '2008-12-13',\n",
       "  'authors_parsed': [['Streinu', 'Ileana', ''], ['Theran', 'Louis', '']]}]"
      ]
     },
     "execution_count": 8,
     "metadata": {},
     "output_type": "execute_result"
    }
   ],
   "source": [
    "rdd.take(2)"
   ]
  },
  {
   "cell_type": "markdown",
   "metadata": {
    "id": "GgSYUgiQ81Ux"
   },
   "source": [
    "## Question 3: Get all attributes\n"
   ]
  },
  {
   "cell_type": "code",
   "execution_count": 9,
   "metadata": {
    "id": "4_hnOy9V81Uy"
   },
   "outputs": [
    {
     "data": {
      "text/plain": [
       "['authors',\n",
       " 'comments',\n",
       " 'title',\n",
       " 'id',\n",
       " 'journal-ref',\n",
       " 'versions',\n",
       " 'submitter',\n",
       " 'categories',\n",
       " 'update_date',\n",
       " 'authors_parsed',\n",
       " 'report-no',\n",
       " 'license',\n",
       " 'abstract',\n",
       " 'doi']"
      ]
     },
     "execution_count": 9,
     "metadata": {},
     "output_type": "execute_result"
    }
   ],
   "source": [
    "rdd.flatMap(lambda x: x).distinct().collect()"
   ]
  },
  {
   "cell_type": "code",
   "execution_count": 10,
   "metadata": {},
   "outputs": [
    {
     "data": {
      "text/plain": [
       "['authors',\n",
       " 'comments',\n",
       " 'title',\n",
       " 'id',\n",
       " 'journal-ref',\n",
       " 'versions',\n",
       " 'submitter',\n",
       " 'categories',\n",
       " 'update_date',\n",
       " 'authors_parsed',\n",
       " 'report-no',\n",
       " 'license',\n",
       " 'abstract',\n",
       " 'doi']"
      ]
     },
     "execution_count": 10,
     "metadata": {},
     "output_type": "execute_result"
    }
   ],
   "source": [
    "rdd.flatMap(lambda x: x.keys()).distinct().collect()"
   ]
  },
  {
   "cell_type": "markdown",
   "metadata": {
    "id": "iGaQWri681Uy"
   },
   "source": [
    "## Question 4: Get the name of the licenses"
   ]
  },
  {
   "cell_type": "code",
   "execution_count": 11,
   "metadata": {},
   "outputs": [
    {
     "data": {
      "text/plain": [
       "[None,\n",
       " 'http://creativecommons.org/licenses/publicdomain/',\n",
       " 'http://creativecommons.org/licenses/by-nc-nd/4.0/',\n",
       " 'http://creativecommons.org/licenses/by-nc-sa/4.0/',\n",
       " 'http://creativecommons.org/licenses/by-nc-sa/3.0/',\n",
       " 'http://creativecommons.org/licenses/by/3.0/',\n",
       " 'http://creativecommons.org/licenses/by/4.0/',\n",
       " 'http://creativecommons.org/publicdomain/zero/1.0/',\n",
       " 'http://arxiv.org/licenses/nonexclusive-distrib/1.0/',\n",
       " 'http://creativecommons.org/licenses/by-sa/4.0/']"
      ]
     },
     "execution_count": 11,
     "metadata": {},
     "output_type": "execute_result"
    }
   ],
   "source": [
    "rdd.map(lambda x: x['license']).distinct().collect()"
   ]
  },
  {
   "cell_type": "markdown",
   "metadata": {
    "id": "_giGZDm981Uz"
   },
   "source": [
    "## Question 5: Get the shortest and the longest titles"
   ]
  },
  {
   "cell_type": "code",
   "execution_count": 12,
   "metadata": {},
   "outputs": [
    {
     "data": {
      "text/plain": [
       "\"\\x7fWeyl \\x7fformula for the negative dissipative \\x7feigenvalues of Maxwell's\\n  equations\""
      ]
     },
     "execution_count": 12,
     "metadata": {},
     "output_type": "execute_result"
    }
   ],
   "source": [
    "longest = rdd.map(lambda x: x['title']).reduce(lambda x,y: x if x > y else y)\n",
    "longest"
   ]
  },
  {
   "cell_type": "code",
   "execution_count": 13,
   "metadata": {
    "id": "0ujiDBLl81Uz"
   },
   "outputs": [
    {
     "data": {
      "text/plain": [
       "'!-Graphs with Trivial Overlap are Context-Free'"
      ]
     },
     "execution_count": 13,
     "metadata": {},
     "output_type": "execute_result"
    }
   ],
   "source": [
    "shortest = rdd.map(lambda x: x['title']).reduce(lambda x,y: x if x < y else y)\n",
    "shortest"
   ]
  },
  {
   "cell_type": "markdown",
   "metadata": {
    "id": "c9iSZAe281Uz"
   },
   "source": [
    "### Question 6: Find abbreviations with 5 or more letters in the abstract"
   ]
  },
  {
   "cell_type": "code",
   "execution_count": 14,
   "metadata": {
    "id": "Z1Weltn281U0"
   },
   "outputs": [],
   "source": [
    "import re\n",
    "def findOutPattern(string):\n",
    "    result = re.search(r\"\\(([A-Za-z][^_ /\\\\<>]{5,})\\)\",string)\n",
    "    if result:\n",
    "        return result.group(1)\n",
    "\n"
   ]
  },
  {
   "cell_type": "code",
   "execution_count": 15,
   "metadata": {},
   "outputs": [
    {
     "data": {
      "text/plain": [
       "[{'id': '0704.0055',\n",
       "  'submitter': 'Per Hyldgaard',\n",
       "  'authors': 'Eleni Ziambaras, Jesper Kleis, Elsebeth Schroder, and Per Hyldgaard',\n",
       "  'title': 'Potassium intercalation in graphite: A van der Waals density-functional\\n  study',\n",
       "  'comments': '10 pages, 5 figures',\n",
       "  'journal-ref': None,\n",
       "  'doi': '10.1103/PhysRevB.76.155425',\n",
       "  'report-no': None,\n",
       "  'categories': 'cond-mat.soft cond-mat.mtrl-sci',\n",
       "  'license': None,\n",
       "  'abstract': '  Potassium intercalation in graphite is investigated by first-principles\\ntheory. The bonding in the potassium-graphite compound is reasonably well\\naccounted for by traditional semilocal density functional theory (DFT)\\ncalculations. However, to investigate the intercalate formation energy from\\npure potassium atoms and graphite requires use of a description of the graphite\\ninterlayer binding and thus a consistent account of the nonlocal dispersive\\ninteractions. This is included seamlessly with ordinary DFT by a van der Waals\\ndensity functional (vdW-DF) approach [Phys. Rev. Lett. 92, 246401 (2004)]. The\\nuse of the vdW-DF is found to stabilize the graphite crystal, with crystal\\nparameters in fair agreement with experiments. For graphite and\\npotassium-intercalated graphite structural parameters such as binding\\nseparation, layer binding energy, formation energy, and bulk modulus are\\nreported. Also the adsorption and sub-surface potassium absorption energies are\\nreported. The vdW-DF description, compared with the traditional semilocal\\napproach, is found to weakly soften the elastic response.\\n',\n",
       "  'versions': [{'version': 'v1', 'created': 'Sun, 1 Apr 2007 20:46:31 GMT'}],\n",
       "  'update_date': '2009-11-13',\n",
       "  'authors_parsed': [['Ziambaras', 'Eleni', ''],\n",
       "   ['Kleis', 'Jesper', ''],\n",
       "   ['Schroder', 'Elsebeth', ''],\n",
       "   ['Hyldgaard', 'Per', '']]},\n",
       " {'id': '0704.0066',\n",
       "  'submitter': 'Bozhidar Zakhariev Iliev',\n",
       "  'authors': 'Bozhidar Z. Iliev (Institute for Nuclear Research and Nuclear Energy,\\n  Bulgarian Academy of Sciences, Sofia, Bulgaria)',\n",
       "  'title': 'Lagrangian quantum field theory in momentum picture. IV. Commutation\\n  relations for free fields',\n",
       "  'comments': '60 LaTeX pages. The packages AMS-LaTeX and amsfonts are required.\\n  This paper is a continuation of the e-print E-prints No. hep-th/0402006, No.\\n  hep-th/0405008 and No. hep-th/0505007. For related papers, visit the\\n  \"publication\" pages at http://theo.inrne.bas.bg/~bozho/',\n",
       "  'journal-ref': None,\n",
       "  'doi': None,\n",
       "  'report-no': None,\n",
       "  'categories': 'hep-th',\n",
       "  'license': None,\n",
       "  'abstract': '  Possible (algebraic) commutation relations in the Lagrangian quantum theory\\nof free (scalar, spinor and vector) fields are considered from mathematical\\nview-point. As sources of these relations are employed the Heisenberg\\nequations/relations for the dynamical variables and a specific condition for\\nuniqueness of the operators of the dynamical variables (with respect to some\\nclass of Lagrangians). The paracommutation relations or some their\\ngeneralizations are pointed as the most general ones that entail the validity\\nof all Heisenberg equations. The simultaneous fulfillment of the Heisenberg\\nequations and the uniqueness requirement turn to be impossible. This problem is\\nsolved via a redefinition of the dynamical variables, similar to the normal\\nordering procedure and containing it as a special case. That implies\\ncorresponding changes in the admissible commutation relations. The introduction\\nof the concept of the vacuum makes narrow the class of the possible commutation\\nrelations; in particular, the mentioned redefinition of the dynamical variables\\nis reduced to normal ordering. As a last restriction on that class is imposed\\nthe requirement for existing of an effective procedure for calculating vacuum\\nmean values. The standard bilinear commutation relations are pointed as the\\nonly known ones that satisfy all of the mentioned conditions and do not\\ncontradict to the existing data.\\n',\n",
       "  'versions': [{'version': 'v1', 'created': 'Sun, 1 Apr 2007 06:22:38 GMT'}],\n",
       "  'update_date': '2007-05-23',\n",
       "  'authors_parsed': [['Iliev',\n",
       "    'Bozhidar Z.',\n",
       "    '',\n",
       "    'Institute for Nuclear Research and Nuclear Energy,\\n  Bulgarian Academy of Sciences, Sofia, Bulgaria']]},\n",
       " {'id': '0704.0087',\n",
       "  'submitter': 'Tuyen Truong',\n",
       "  'authors': 'Duong Minh Duc and Truong Trung Tuyen',\n",
       "  'title': 'Approximate solutions to the Dirichlet problem for harmonic maps between\\n  hyperbolic spaces',\n",
       "  'comments': None,\n",
       "  'journal-ref': None,\n",
       "  'doi': None,\n",
       "  'report-no': None,\n",
       "  'categories': 'math.DG',\n",
       "  'license': None,\n",
       "  'abstract': '  Our main result in this paper is the following: Given $H^m, H^n$ hyperbolic\\nspaces of dimensional $m$ and $n$ corresponding, and given a Holder function\\n$f=(s^1,...,f^{n-1}):\\\\partial H^m\\\\to \\\\partial H^n$ between geometric boundaries\\nof $H^m$ and $H^n$. Then for each $\\\\epsilon >0$ there exists a harmonic map\\n$u:H^m\\\\to H^n$ which is continuous up to the boundary (in the sense of\\nEuclidean) and $u|_{\\\\partial H^m}=(f^1,...,f^{n-1},\\\\epsilon)$.\\n',\n",
       "  'versions': [{'version': 'v1', 'created': 'Sun, 1 Apr 2007 13:44:50 GMT'},\n",
       "   {'version': 'v2', 'created': 'Wed, 23 May 2007 12:49:52 GMT'}],\n",
       "  'update_date': '2007-06-13',\n",
       "  'authors_parsed': [['Duc', 'Duong Minh', ''],\n",
       "   ['Tuyen', 'Truong Trung', '']]},\n",
       " {'id': '0704.0098',\n",
       "  'submitter': 'Jack Raymond',\n",
       "  'authors': 'Jack Raymond, David Saad',\n",
       "  'title': 'Sparsely-spread CDMA - a statistical mechanics based analysis',\n",
       "  'comments': '23 pages, 5 figures, figure 1 amended since published version',\n",
       "  'journal-ref': 'J. Phys. A: Math. Theor. 40 No 41 (12 October 2007) 12315-12333',\n",
       "  'doi': '10.1088/1751-8113/40/41/004',\n",
       "  'report-no': None,\n",
       "  'categories': 'cs.IT math.IT',\n",
       "  'license': None,\n",
       "  'abstract': '  Sparse Code Division Multiple Access (CDMA), a variation on the standard CDMA\\nmethod in which the spreading (signature) matrix contains only a relatively\\nsmall number of non-zero elements, is presented and analysed using methods of\\nstatistical physics. The analysis provides results on the performance of\\nmaximum likelihood decoding for sparse spreading codes in the large system\\nlimit. We present results for both cases of regular and irregular spreading\\nmatrices for the binary additive white Gaussian noise channel (BIAWGN) with a\\ncomparison to the canonical (dense) random spreading code.\\n',\n",
       "  'versions': [{'version': 'v1', 'created': 'Sun, 1 Apr 2007 18:27:26 GMT'},\n",
       "   {'version': 'v2', 'created': 'Fri, 27 Apr 2007 12:39:14 GMT'},\n",
       "   {'version': 'v3', 'created': 'Wed, 1 Aug 2007 19:10:18 GMT'},\n",
       "   {'version': 'v4', 'created': 'Sun, 7 Oct 2007 16:50:39 GMT'},\n",
       "   {'version': 'v5', 'created': 'Wed, 30 Apr 2008 15:36:55 GMT'}],\n",
       "  'update_date': '2009-11-13',\n",
       "  'authors_parsed': [['Raymond', 'Jack', ''], ['Saad', 'David', '']]},\n",
       " {'id': '0704.0099',\n",
       "  'submitter': 'Koenraad M. R. Audenaert',\n",
       "  'authors': 'Koenraad M.R. Audenaert and Jaspal Singh Aujla',\n",
       "  'title': \"On Ando's inequalities for convex and concave functions\",\n",
       "  'comments': '18 pages',\n",
       "  'journal-ref': None,\n",
       "  'doi': None,\n",
       "  'report-no': None,\n",
       "  'categories': 'math.FA',\n",
       "  'license': None,\n",
       "  'abstract': '  For positive semidefinite matrices $A$ and $B$, Ando and Zhan proved the\\ninequalities $||| f(A)+f(B) ||| \\\\ge ||| f(A+B) |||$ and $||| g(A)+g(B) ||| \\\\le\\n||| g(A+B) |||$, for any unitarily invariant norm, and for any non-negative\\noperator monotone $f$ on $[0,\\\\infty)$ with inverse function $g$. These\\ninequalities have very recently been generalised to non-negative concave\\nfunctions $f$ and non-negative convex functions $g$, by Bourin and Uchiyama,\\nand Kosem, respectively.\\n  In this paper we consider the related question whether the inequalities $|||\\nf(A)-f(B) ||| \\\\le ||| f(|A-B|) |||$, and $||| g(A)-g(B) ||| \\\\ge ||| g(|A-B|)\\n|||$, obtained by Ando, for operator monotone $f$ with inverse $g$, also have a\\nsimilar generalisation to non-negative concave $f$ and convex $g$. We answer\\nexactly this question, in the negative for general matrices, and affirmatively\\nin the special case when $A\\\\ge ||B||$.\\n  In the course of this work, we introduce the novel notion of $Y$-dominated\\nmajorisation between the spectra of two Hermitian matrices, where $Y$ is itself\\na Hermitian matrix, and prove a certain property of this relation that allows\\nto strengthen the results of Bourin-Uchiyama and Kosem, mentioned above.\\n',\n",
       "  'versions': [{'version': 'v1', 'created': 'Sun, 1 Apr 2007 18:14:32 GMT'}],\n",
       "  'update_date': '2007-05-23',\n",
       "  'authors_parsed': [['Audenaert', 'Koenraad M. R.', ''],\n",
       "   ['Aujla', 'Jaspal Singh', '']]},\n",
       " {'id': '0704.0106',\n",
       "  'submitter': 'Xin-Nian Wang',\n",
       "  'authors': 'Andreas Schafer, Xin-Nian Wang and Ben-Wei Zhang',\n",
       "  'title': 'Multiple Parton Scattering in Nuclei: Quark-quark Scattering',\n",
       "  'comments': '49 pages in elsart style and 16 figures. Two sentences added, final\\n  version appeared in Nucl. Phys. A',\n",
       "  'journal-ref': 'Nucl.Phys.A793:128-170,2007',\n",
       "  'doi': '10.1016/j.nuclphysa.2007.06.009',\n",
       "  'report-no': None,\n",
       "  'categories': 'hep-ph nucl-th',\n",
       "  'license': None,\n",
       "  'abstract': '  Modifications to quark and antiquark fragmentation functions due to\\nquark-quark (antiquark) double scattering in nuclear medium are studied\\nsystematically up to order \\\\cal{O}(\\\\alpha_{s}^2)$ in deeply inelastic\\nscattering (DIS) off nuclear targets. At the order $\\\\cal{O}(\\\\alpha_s^2)$,\\ntwist-four contributions from quark-quark (antiquark) rescattering also exhibit\\nthe Landau-Pomeranchuck-Midgal (LPM) interference feature similar to gluon\\nbremsstrahlung induced by multiple parton scattering. Compared to quark-gluon\\nscattering, the modification, which is dominated by $t$-channel quark-quark\\n(antiquark) scattering, is only smaller by a factor of $C_F/C_A=4/9$ times the\\nratio of quark and gluon distributions in the medium. Such a modification is\\nnot negligible for realistic kinematics and finite medium size. The\\nmodifications to quark (antiquark) fragmentation functions from quark-antiquark\\nannihilation processes are shown to be determined by the antiquark (quark)\\ndistribution density in the medium. The asymmetry in quark and antiquark\\ndistributions in nuclei will lead to different modifications of quark and\\nantiquark fragmentation functions inside a nucleus, which qualitatively\\nexplains the experimentally observed flavor dependence of the leading hadron\\nsuppression in semi-inclusive DIS off nuclear targets. The quark-antiquark\\nannihilation processes also mix quark and gluon fragmentation functions in the\\nlarge fractional momentum region, leading to a flavor dependence of jet\\nquenching in heavy-ion collisions.\\n',\n",
       "  'versions': [{'version': 'v1', 'created': 'Sun, 1 Apr 2007 21:10:09 GMT'},\n",
       "   {'version': 'v2', 'created': 'Fri, 9 Nov 2007 12:13:16 GMT'}],\n",
       "  'update_date': '2008-11-26',\n",
       "  'authors_parsed': [['Schafer', 'Andreas', ''],\n",
       "   ['Wang', 'Xin-Nian', ''],\n",
       "   ['Zhang', 'Ben-Wei', '']]},\n",
       " {'id': '0704.0126',\n",
       "  'submitter': 'Huan Yang',\n",
       "  'authors': 'Huan Yang, Ying Jia, Lei Shan, Yingzi Zhang, Hai-Hu Wen, Chenggang\\n  Zhuang, Zikui Liu, Qi Li, Yi Cui, Xiaoxing Xi',\n",
       "  'title': 'I-V characteristics of the vortex state in MgB2 thin films',\n",
       "  'comments': '7 pages, 9 figures',\n",
       "  'journal-ref': 'Phys. Rev. B 76, 134513 (2007)',\n",
       "  'doi': '10.1103/PhysRevB.76.134513',\n",
       "  'report-no': None,\n",
       "  'categories': 'cond-mat.supr-con',\n",
       "  'license': None,\n",
       "  'abstract': '  The current-voltage (I-V) characteristics of various MgB2 films have been\\nstudied at different magnetic fields parallel to c-axis. At fields \\\\mu0H\\nbetween 0 and 5T, vortex liquid-glass transitions were found in the I-V\\nisotherms. Consistently, the I-V curves measured at different temperatures show\\na scaling behavior in the framework of quasi-two-dimension (quasi-2D) vortex\\nglass theory. However, at \\\\mu0 H >= 5T, a finite dissipation was observed down\\nto the lowest temperature here, T=1.7K, and the I-V isotherms did not scale in\\nterms of any known scaling law, of any dimensionality. We suggest that this may\\nbe caused by a mixture of \\\\sigma band vortices and \\\\pi band quasiparticles.\\nInterestingly, the I-V curves at zero magnetic field can still be scaled\\naccording to the quasi-2D vortex glass formalism, indicating an equivalent\\neffect of self-field due to persistent current and applied magnetic field.\\n',\n",
       "  'versions': [{'version': 'v1', 'created': 'Mon, 2 Apr 2007 14:01:00 GMT'},\n",
       "   {'version': 'v2', 'created': 'Tue, 30 Oct 2007 03:07:52 GMT'}],\n",
       "  'update_date': '2008-09-08',\n",
       "  'authors_parsed': [['Yang', 'Huan', ''],\n",
       "   ['Jia', 'Ying', ''],\n",
       "   ['Shan', 'Lei', ''],\n",
       "   ['Zhang', 'Yingzi', ''],\n",
       "   ['Wen', 'Hai-Hu', ''],\n",
       "   ['Zhuang', 'Chenggang', ''],\n",
       "   ['Liu', 'Zikui', ''],\n",
       "   ['Li', 'Qi', ''],\n",
       "   ['Cui', 'Yi', ''],\n",
       "   ['Xi', 'Xiaoxing', '']]},\n",
       " {'id': '0704.0135',\n",
       "  'submitter': 'Nicolas Menicucci',\n",
       "  'authors': 'Nicolas C. Menicucci and G. J. Milburn',\n",
       "  'title': 'A Single Trapped Ion as a Time-Dependent Harmonic Oscillator',\n",
       "  'comments': '5 pages (two-column format), no figures, added introductory material,\\n  other minor content revisions',\n",
       "  'journal-ref': 'Phys. Rev. A 76, 052105 (2007)',\n",
       "  'doi': '10.1103/PhysRevA.76.052105',\n",
       "  'report-no': None,\n",
       "  'categories': 'quant-ph',\n",
       "  'license': None,\n",
       "  'abstract': '  We show how a single trapped ion may be used to test a variety of important\\nphysical models realized as time-dependent harmonic oscillators. The ion itself\\nfunctions as its own motional detector through laser-induced electronic\\ntransitions. Alsing et al. [Phys. Rev. Lett. 94, 220401 (2005)] proposed that\\nan exponentially decaying trap frequency could be used to simulate (thermal)\\nGibbons-Hawking radiation in an expanding universe, but the Hamiltonian used\\nwas incorrect. We apply our general solution to this experimental proposal,\\ncorrecting the result for a single ion and showing that while the actual\\nspectrum is different from the Gibbons-Hawking case, it nevertheless shares an\\nimportant experimental signature with this result.\\n',\n",
       "  'versions': [{'version': 'v1', 'created': 'Mon, 2 Apr 2007 12:01:41 GMT'},\n",
       "   {'version': 'v2', 'created': 'Fri, 27 Jul 2007 16:43:16 GMT'}],\n",
       "  'update_date': '2007-12-23',\n",
       "  'authors_parsed': [['Menicucci', 'Nicolas C.', ''],\n",
       "   ['Milburn', 'G. J.', '']]},\n",
       " {'id': '0704.0136',\n",
       "  'submitter': 'Zihua Weng',\n",
       "  'authors': 'Zihua Weng',\n",
       "  'title': 'Compounding Fields and Their Quantum Equations in the Trigintaduonion\\n  Space',\n",
       "  'comments': '17 pages',\n",
       "  'journal-ref': None,\n",
       "  'doi': None,\n",
       "  'report-no': None,\n",
       "  'categories': 'physics.gen-ph',\n",
       "  'license': None,\n",
       "  'abstract': '  The 32-dimensional compounding fields and their quantum interplays in the\\ntrigintaduonion space can be presented by analogy with octonion and sedenion\\nelectromagnetic, gravitational, strong and weak interactions. In the\\ntrigintaduonion fields which are associated with the electromagnetic,\\ngravitational, strong and weak interactions, the study deduces some conclusions\\nof field source particles (quarks and leptons) and intermediate particles which\\nare consistent with current some sorts of interaction theories. In the\\ntrigintaduonion fields which are associated with the hyper-strong and\\nstrong-weak fields, the paper draws some predicts and conclusions of the field\\nsource particles (sub-quarks) and intermediate particles. The research results\\nshow that there may exist some new particles in the nature.\\n',\n",
       "  'versions': [{'version': 'v1', 'created': 'Mon, 2 Apr 2007 07:37:17 GMT'},\n",
       "   {'version': 'v2', 'created': 'Fri, 7 Sep 2007 09:10:51 GMT'}],\n",
       "  'update_date': '2011-11-09',\n",
       "  'authors_parsed': [['Weng', 'Zihua', '']]},\n",
       " {'id': '0704.0150',\n",
       "  'submitter': 'Bo Gu',\n",
       "  'authors': 'Bo Gu and Gang Su',\n",
       "  'title': 'Magnetism and Thermodynamics of Spin-1/2 Heisenberg Diamond Chains in a\\n  Magnetic Field',\n",
       "  'comments': '18 pages, 20 figures, to be published in Phys. Rev. B',\n",
       "  'journal-ref': 'Phys. Rev. B 75, 174437 (2007)',\n",
       "  'doi': '10.1103/PhysRevB.75.174437',\n",
       "  'report-no': None,\n",
       "  'categories': 'cond-mat.str-el',\n",
       "  'license': None,\n",
       "  'abstract': '  The magnetic and thermodynamic properties of spin-1/2 Heisenberg diamond\\nchains are investigated in three different cases: (a) J1, J2, J3>0\\n(frustrated); (b) J1, J3<0, J2>0 (frustrated); and (c) J1, J2>0, J3<0\\n(non-frustrated). The density matrix renormalization group (DMRG) technique is\\ninvoked to study the properties of the system in the ground state, while the\\ntransfer matrix renormalization group (TMRG) technique is applied to explore\\nthe thermodynamic properties. The local magnetic moments, spin correlation\\nfunctions, and static structure factors are discussed in the ground state for\\nthe three cases. It is shown that the static structure factor S(q) shows peaks\\nat wavevectors $q=a\\\\pi /3$ (a=0,1,2,3,4,5) for different couplings in a zero\\nmagnetic field, which, however in the magnetic fields where the magnetization\\nplateau with m=1/6 pertains, exhibits the peaks only at q=0, $2\\\\pi /3$ and\\n$4\\\\pi /3$, which are found to be couplings-independent. The DMRG results of the\\nzero-field static structure factor can be nicely fitted by a linear\\nsuperposition of six modes, where two fitting equations are proposed. It is\\nobserved that the six modes are closely related to the low-lying excitations of\\nthe system. At finite temperatures, the double-peak structures of the\\nsusceptibility and specific heat against temperature are obtained, where the\\npeak positions and heights are found to depend on the competition of the\\ncouplings. It is also uncovered that the XXZ anisotropy of F and AF couplings\\nleads the system of case (c) to display quite different behaviors. In addition,\\nthe experimental data of the susceptibility, specific heat and magnetization\\nfor the compound Cu$_{3}$(CO$_{3}$)$_{2}$(OH)$_{2}$ are fairly compared with\\nour TMRG results.\\n',\n",
       "  'versions': [{'version': 'v1', 'created': 'Mon, 2 Apr 2007 09:16:44 GMT'}],\n",
       "  'update_date': '2009-11-13',\n",
       "  'authors_parsed': [['Gu', 'Bo', ''], ['Su', 'Gang', '']]}]"
      ]
     },
     "execution_count": 15,
     "metadata": {},
     "output_type": "execute_result"
    }
   ],
   "source": [
    "rdd.filter(lambda x: findOutPattern(x['abstract'])).take(10)"
   ]
  },
  {
   "cell_type": "markdown",
   "metadata": {
    "id": "CnPa1NYL81U0"
   },
   "source": [
    "## Question 7: Get the number of archive records per month ('update_date' attribute)"
   ]
  },
  {
   "cell_type": "code",
   "execution_count": 16,
   "metadata": {},
   "outputs": [],
   "source": [
    "def extract_months(date_str):\n",
    "    match = re.match(r'(\\d{4})-(\\d{2})-(\\d{2})', date_str)\n",
    "    print(match)\n",
    "    if match:\n",
    "        month = int(match.group(2))  # Convert the matched month to an integer\n",
    "        return month\n",
    "    "
   ]
  },
  {
   "cell_type": "code",
   "execution_count": 17,
   "metadata": {
    "id": "0Wsgod6K81U1"
   },
   "outputs": [
    {
     "data": {
      "text/plain": [
       "[(1, 134247),\n",
       " (2, 116948),\n",
       " (3, 126458),\n",
       " (4, 117126),\n",
       " (5, 296587),\n",
       " (6, 191746),\n",
       " (7, 122649),\n",
       " (8, 138469),\n",
       " (9, 138978),\n",
       " (10, 197755),\n",
       " (11, 297963),\n",
       " (12, 132305)]"
      ]
     },
     "execution_count": 17,
     "metadata": {},
     "output_type": "execute_result"
    }
   ],
   "source": [
    "rdd.map(lambda x : (extract_months(x['update_date']),1)).reduceByKey(lambda x,y: x+y).collect()"
   ]
  },
  {
   "cell_type": "code",
   "execution_count": 18,
   "metadata": {},
   "outputs": [
    {
     "data": {
      "text/plain": [
       "1"
      ]
     },
     "execution_count": 18,
     "metadata": {},
     "output_type": "execute_result"
    }
   ],
   "source": [
    "# This approach is faster, since datetime is a built-in Python method optimized for parsing date strings\n",
    "import datetime\n",
    "\n",
    "def extract_date(line):\n",
    "    d = datetime.datetime.strptime(line, \"%Y-%m-%d\")\n",
    "    return d.month\n",
    "\n",
    "extract_date('2000-01-01')"
   ]
  },
  {
   "cell_type": "code",
   "execution_count": 19,
   "metadata": {},
   "outputs": [
    {
     "data": {
      "text/plain": [
       "[(2, 116948),\n",
       " (4, 117126),\n",
       " (7, 122649),\n",
       " (3, 126458),\n",
       " (12, 132305),\n",
       " (1, 134247),\n",
       " (8, 138469),\n",
       " (9, 138978),\n",
       " (6, 191746),\n",
       " (10, 197755),\n",
       " (5, 296587),\n",
       " (11, 297963)]"
      ]
     },
     "execution_count": 19,
     "metadata": {},
     "output_type": "execute_result"
    }
   ],
   "source": [
    "rdd.map(lambda x: (extract_date(x['update_date']),1)).reduceByKey(lambda x,y: x+y).sortBy(lambda x: x[1]).collect()"
   ]
  },
  {
   "cell_type": "markdown",
   "metadata": {
    "id": "hQu2A93481U1"
   },
   "source": [
    "## Question 8: Get the average number of pages"
   ]
  },
  {
   "cell_type": "code",
   "execution_count": 20,
   "metadata": {
    "id": "JjUWgHMs81Uy"
   },
   "outputs": [
    {
     "data": {
      "text/plain": [
       "[{'id': '0704.0001',\n",
       "  'submitter': 'Pavel Nadolsky',\n",
       "  'authors': \"C. Bal\\\\'azs, E. L. Berger, P. M. Nadolsky, C.-P. Yuan\",\n",
       "  'title': 'Calculation of prompt diphoton production cross sections at Tevatron and\\n  LHC energies',\n",
       "  'comments': '37 pages, 15 figures; published version',\n",
       "  'journal-ref': 'Phys.Rev.D76:013009,2007',\n",
       "  'doi': '10.1103/PhysRevD.76.013009',\n",
       "  'report-no': 'ANL-HEP-PR-07-12',\n",
       "  'categories': 'hep-ph',\n",
       "  'license': None,\n",
       "  'abstract': '  A fully differential calculation in perturbative quantum chromodynamics is\\npresented for the production of massive photon pairs at hadron colliders. All\\nnext-to-leading order perturbative contributions from quark-antiquark,\\ngluon-(anti)quark, and gluon-gluon subprocesses are included, as well as\\nall-orders resummation of initial-state gluon radiation valid at\\nnext-to-next-to-leading logarithmic accuracy. The region of phase space is\\nspecified in which the calculation is most reliable. Good agreement is\\ndemonstrated with data from the Fermilab Tevatron, and predictions are made for\\nmore detailed tests with CDF and DO data. Predictions are shown for\\ndistributions of diphoton pairs produced at the energy of the Large Hadron\\nCollider (LHC). Distributions of the diphoton pairs from the decay of a Higgs\\nboson are contrasted with those produced from QCD processes at the LHC, showing\\nthat enhanced sensitivity to the signal can be obtained with judicious\\nselection of events.\\n',\n",
       "  'versions': [{'version': 'v1', 'created': 'Mon, 2 Apr 2007 19:18:42 GMT'},\n",
       "   {'version': 'v2', 'created': 'Tue, 24 Jul 2007 20:10:27 GMT'}],\n",
       "  'update_date': '2008-11-26',\n",
       "  'authors_parsed': [['Balázs', 'C.', ''],\n",
       "   ['Berger', 'E. L.', ''],\n",
       "   ['Nadolsky', 'P. M.', ''],\n",
       "   ['Yuan', 'C. -P.', '']]},\n",
       " {'id': '0704.0002',\n",
       "  'submitter': 'Louis Theran',\n",
       "  'authors': 'Ileana Streinu and Louis Theran',\n",
       "  'title': 'Sparsity-certifying Graph Decompositions',\n",
       "  'comments': 'To appear in Graphs and Combinatorics',\n",
       "  'journal-ref': None,\n",
       "  'doi': None,\n",
       "  'report-no': None,\n",
       "  'categories': 'math.CO cs.CG',\n",
       "  'license': 'http://arxiv.org/licenses/nonexclusive-distrib/1.0/',\n",
       "  'abstract': '  We describe a new algorithm, the $(k,\\\\ell)$-pebble game with colors, and use\\nit obtain a characterization of the family of $(k,\\\\ell)$-sparse graphs and\\nalgorithmic solutions to a family of problems concerning tree decompositions of\\ngraphs. Special instances of sparse graphs appear in rigidity theory and have\\nreceived increased attention in recent years. In particular, our colored\\npebbles generalize and strengthen the previous results of Lee and Streinu and\\ngive a new proof of the Tutte-Nash-Williams characterization of arboricity. We\\nalso present a new decomposition that certifies sparsity based on the\\n$(k,\\\\ell)$-pebble game with colors. Our work also exposes connections between\\npebble game algorithms and previous sparse graph algorithms by Gabow, Gabow and\\nWestermann and Hendrickson.\\n',\n",
       "  'versions': [{'version': 'v1', 'created': 'Sat, 31 Mar 2007 02:26:18 GMT'},\n",
       "   {'version': 'v2', 'created': 'Sat, 13 Dec 2008 17:26:00 GMT'}],\n",
       "  'update_date': '2008-12-13',\n",
       "  'authors_parsed': [['Streinu', 'Ileana', ''], ['Theran', 'Louis', '']]}]"
      ]
     },
     "execution_count": 20,
     "metadata": {},
     "output_type": "execute_result"
    }
   ],
   "source": [
    "rdd.take(2)"
   ]
  },
  {
   "cell_type": "code",
   "execution_count": 21,
   "metadata": {
    "id": "Wa1y3OKW81U1"
   },
   "outputs": [
    {
     "data": {
      "text/plain": [
       "37"
      ]
     },
     "execution_count": 21,
     "metadata": {},
     "output_type": "execute_result"
    }
   ],
   "source": [
    "# import re\n",
    "line = \"37 pages\"\n",
    "\n",
    "def extract_Page(line):\n",
    "    \n",
    "    search = re.findall(\"\\d+ pages\", line)\n",
    "    if search:\n",
    "        return int(search[0].split(\" \")[0])\n",
    "    else:\n",
    "        return 0\n",
    "extract_Page(line)"
   ]
  },
  {
   "cell_type": "code",
   "execution_count": 22,
   "metadata": {},
   "outputs": [],
   "source": [
    "rdd_average = rdd.map(lambda x: extract_Page(x['comments'] if x['comments'] != None else \"None\"))"
   ]
  },
  {
   "cell_type": "code",
   "execution_count": 23,
   "metadata": {},
   "outputs": [],
   "source": [
    "rdd_average = rdd_average.filter(lambda x: x != 0)"
   ]
  },
  {
   "cell_type": "code",
   "execution_count": 24,
   "metadata": {},
   "outputs": [],
   "source": [
    "average_sum = rdd_average.reduce(lambda x,y: x+y)\n",
    "average_count = rdd_average.count()"
   ]
  },
  {
   "cell_type": "code",
   "execution_count": 25,
   "metadata": {},
   "outputs": [
    {
     "data": {
      "text/plain": [
       "18"
      ]
     },
     "execution_count": 25,
     "metadata": {},
     "output_type": "execute_result"
    }
   ],
   "source": [
    "round(average_sum/average_count)"
   ]
  },
  {
   "cell_type": "code",
   "execution_count": 26,
   "metadata": {},
   "outputs": [],
   "source": [
    "# Get The \"Average number of pages per day for version 1\""
   ]
  },
  {
   "cell_type": "code",
   "execution_count": 27,
   "metadata": {},
   "outputs": [
    {
     "data": {
      "text/plain": [
       "[{'id': '0704.0001',\n",
       "  'submitter': 'Pavel Nadolsky',\n",
       "  'authors': \"C. Bal\\\\'azs, E. L. Berger, P. M. Nadolsky, C.-P. Yuan\",\n",
       "  'title': 'Calculation of prompt diphoton production cross sections at Tevatron and\\n  LHC energies',\n",
       "  'comments': '37 pages, 15 figures; published version',\n",
       "  'journal-ref': 'Phys.Rev.D76:013009,2007',\n",
       "  'doi': '10.1103/PhysRevD.76.013009',\n",
       "  'report-no': 'ANL-HEP-PR-07-12',\n",
       "  'categories': 'hep-ph',\n",
       "  'license': None,\n",
       "  'abstract': '  A fully differential calculation in perturbative quantum chromodynamics is\\npresented for the production of massive photon pairs at hadron colliders. All\\nnext-to-leading order perturbative contributions from quark-antiquark,\\ngluon-(anti)quark, and gluon-gluon subprocesses are included, as well as\\nall-orders resummation of initial-state gluon radiation valid at\\nnext-to-next-to-leading logarithmic accuracy. The region of phase space is\\nspecified in which the calculation is most reliable. Good agreement is\\ndemonstrated with data from the Fermilab Tevatron, and predictions are made for\\nmore detailed tests with CDF and DO data. Predictions are shown for\\ndistributions of diphoton pairs produced at the energy of the Large Hadron\\nCollider (LHC). Distributions of the diphoton pairs from the decay of a Higgs\\nboson are contrasted with those produced from QCD processes at the LHC, showing\\nthat enhanced sensitivity to the signal can be obtained with judicious\\nselection of events.\\n',\n",
       "  'versions': [{'version': 'v1', 'created': 'Mon, 2 Apr 2007 19:18:42 GMT'},\n",
       "   {'version': 'v2', 'created': 'Tue, 24 Jul 2007 20:10:27 GMT'}],\n",
       "  'update_date': '2008-11-26',\n",
       "  'authors_parsed': [['Balázs', 'C.', ''],\n",
       "   ['Berger', 'E. L.', ''],\n",
       "   ['Nadolsky', 'P. M.', ''],\n",
       "   ['Yuan', 'C. -P.', '']]},\n",
       " {'id': '0704.0002',\n",
       "  'submitter': 'Louis Theran',\n",
       "  'authors': 'Ileana Streinu and Louis Theran',\n",
       "  'title': 'Sparsity-certifying Graph Decompositions',\n",
       "  'comments': 'To appear in Graphs and Combinatorics',\n",
       "  'journal-ref': None,\n",
       "  'doi': None,\n",
       "  'report-no': None,\n",
       "  'categories': 'math.CO cs.CG',\n",
       "  'license': 'http://arxiv.org/licenses/nonexclusive-distrib/1.0/',\n",
       "  'abstract': '  We describe a new algorithm, the $(k,\\\\ell)$-pebble game with colors, and use\\nit obtain a characterization of the family of $(k,\\\\ell)$-sparse graphs and\\nalgorithmic solutions to a family of problems concerning tree decompositions of\\ngraphs. Special instances of sparse graphs appear in rigidity theory and have\\nreceived increased attention in recent years. In particular, our colored\\npebbles generalize and strengthen the previous results of Lee and Streinu and\\ngive a new proof of the Tutte-Nash-Williams characterization of arboricity. We\\nalso present a new decomposition that certifies sparsity based on the\\n$(k,\\\\ell)$-pebble game with colors. Our work also exposes connections between\\npebble game algorithms and previous sparse graph algorithms by Gabow, Gabow and\\nWestermann and Hendrickson.\\n',\n",
       "  'versions': [{'version': 'v1', 'created': 'Sat, 31 Mar 2007 02:26:18 GMT'},\n",
       "   {'version': 'v2', 'created': 'Sat, 13 Dec 2008 17:26:00 GMT'}],\n",
       "  'update_date': '2008-12-13',\n",
       "  'authors_parsed': [['Streinu', 'Ileana', ''], ['Theran', 'Louis', '']]}]"
      ]
     },
     "execution_count": 27,
     "metadata": {},
     "output_type": "execute_result"
    }
   ],
   "source": [
    "rdd.take(2)"
   ]
  },
  {
   "cell_type": "code",
   "execution_count": 28,
   "metadata": {},
   "outputs": [
    {
     "data": {
      "text/plain": [
       "['v1', 'v1', 'v1', 'v1', 'v1']"
      ]
     },
     "execution_count": 28,
     "metadata": {},
     "output_type": "execute_result"
    }
   ],
   "source": [
    "rdd.map(lambda x: x['versions'][0]['version']).take(5)"
   ]
  },
  {
   "cell_type": "code",
   "execution_count": 29,
   "metadata": {},
   "outputs": [
    {
     "data": {
      "text/plain": [
       "37"
      ]
     },
     "execution_count": 29,
     "metadata": {},
     "output_type": "execute_result"
    }
   ],
   "source": [
    "import re\n",
    "line = '37 pages'\n",
    "def extract_pages_ch(line):\n",
    "    res = re.findall(r'(\\d+) pages',line)\n",
    "    if res:\n",
    "        return int(res[0])\n",
    "    else:\n",
    "        return 0\n",
    "extract_pages_ch(line)"
   ]
  },
  {
   "cell_type": "code",
   "execution_count": 41,
   "metadata": {},
   "outputs": [],
   "source": [
    "ch_rdd = rdd.filter(lambda x: x['versions'][0]['version'] == 'v1').map(lambda x: (\" \".join(x['versions'][0]['created'].split(\" \")[1:4]),extract_pages_ch(x['comments']) if x['comments'] != None else 0))"
   ]
  },
  {
   "cell_type": "code",
   "execution_count": 52,
   "metadata": {},
   "outputs": [
    {
     "data": {
      "text/plain": [
       "[{'id': '0704.0001',\n",
       "  'submitter': 'Pavel Nadolsky',\n",
       "  'authors': \"C. Bal\\\\'azs, E. L. Berger, P. M. Nadolsky, C.-P. Yuan\",\n",
       "  'title': 'Calculation of prompt diphoton production cross sections at Tevatron and\\n  LHC energies',\n",
       "  'comments': '37 pages, 15 figures; published version',\n",
       "  'journal-ref': 'Phys.Rev.D76:013009,2007',\n",
       "  'doi': '10.1103/PhysRevD.76.013009',\n",
       "  'report-no': 'ANL-HEP-PR-07-12',\n",
       "  'categories': 'hep-ph',\n",
       "  'license': None,\n",
       "  'abstract': '  A fully differential calculation in perturbative quantum chromodynamics is\\npresented for the production of massive photon pairs at hadron colliders. All\\nnext-to-leading order perturbative contributions from quark-antiquark,\\ngluon-(anti)quark, and gluon-gluon subprocesses are included, as well as\\nall-orders resummation of initial-state gluon radiation valid at\\nnext-to-next-to-leading logarithmic accuracy. The region of phase space is\\nspecified in which the calculation is most reliable. Good agreement is\\ndemonstrated with data from the Fermilab Tevatron, and predictions are made for\\nmore detailed tests with CDF and DO data. Predictions are shown for\\ndistributions of diphoton pairs produced at the energy of the Large Hadron\\nCollider (LHC). Distributions of the diphoton pairs from the decay of a Higgs\\nboson are contrasted with those produced from QCD processes at the LHC, showing\\nthat enhanced sensitivity to the signal can be obtained with judicious\\nselection of events.\\n',\n",
       "  'versions': [{'version': 'v1', 'created': 'Mon, 2 Apr 2007 19:18:42 GMT'},\n",
       "   {'version': 'v2', 'created': 'Tue, 24 Jul 2007 20:10:27 GMT'}],\n",
       "  'update_date': '2008-11-26',\n",
       "  'authors_parsed': [['Balázs', 'C.', ''],\n",
       "   ['Berger', 'E. L.', ''],\n",
       "   ['Nadolsky', 'P. M.', ''],\n",
       "   ['Yuan', 'C. -P.', '']]}]"
      ]
     },
     "execution_count": 52,
     "metadata": {},
     "output_type": "execute_result"
    }
   ],
   "source": [
    "rdd.take(1)"
   ]
  },
  {
   "cell_type": "code",
   "execution_count": 68,
   "metadata": {},
   "outputs": [],
   "source": [
    "ch_rdd = rdd.filter(lambda x: x['versions'][0]['version'] == 'v1').map(lambda x: ((x['versions'][0]['created'].split(\",\")[0]),extract_pages_ch(x['comments']) if x['comments'] != None else 0))"
   ]
  },
  {
   "cell_type": "code",
   "execution_count": 69,
   "metadata": {},
   "outputs": [],
   "source": [
    "ch_rdd = ch_rdd.filter(lambda x: x[1] != 0)"
   ]
  },
  {
   "cell_type": "code",
   "execution_count": 70,
   "metadata": {},
   "outputs": [
    {
     "data": {
      "text/plain": [
       "['Mon', 'Sat', 'Sun', 'Sat', 'Mon', 'Sat']"
      ]
     },
     "execution_count": 70,
     "metadata": {},
     "output_type": "execute_result"
    }
   ],
   "source": [
    "rdd.map(lambda x: x['versions'][0]['created'].split(\",\")[0]).take(6)"
   ]
  },
  {
   "cell_type": "code",
   "execution_count": 71,
   "metadata": {},
   "outputs": [],
   "source": [
    "ch_rdd_avg = ch_rdd.reduceByKey(lambda x,y : x+y)"
   ]
  },
  {
   "cell_type": "code",
   "execution_count": 72,
   "metadata": {},
   "outputs": [
    {
     "data": {
      "text/plain": [
       "PythonRDD[129] at RDD at PythonRDD.scala:53"
      ]
     },
     "execution_count": 72,
     "metadata": {},
     "output_type": "execute_result"
    }
   ],
   "source": [
    "ch_rdd_avg\n"
   ]
  },
  {
   "cell_type": "code",
   "execution_count": 73,
   "metadata": {},
   "outputs": [],
   "source": [
    "ch_rdd_count = ch_rdd.map(lambda x: (x[0],1)).reduceByKey(lambda x,y : x+y)"
   ]
  },
  {
   "cell_type": "code",
   "execution_count": 74,
   "metadata": {},
   "outputs": [
    {
     "data": {
      "text/plain": [
       "PythonRDD[134] at RDD at PythonRDD.scala:53"
      ]
     },
     "execution_count": 74,
     "metadata": {},
     "output_type": "execute_result"
    }
   ],
   "source": [
    "ch_rdd_count"
   ]
  },
  {
   "cell_type": "code",
   "execution_count": 75,
   "metadata": {},
   "outputs": [],
   "source": [
    "ch_joined = ch_rdd_count.join(ch_rdd_avg)"
   ]
  },
  {
   "cell_type": "code",
   "execution_count": 76,
   "metadata": {},
   "outputs": [
    {
     "data": {
      "text/plain": [
       "PythonRDD[138] at RDD at PythonRDD.scala:53"
      ]
     },
     "execution_count": 76,
     "metadata": {},
     "output_type": "execute_result"
    }
   ],
   "source": [
    "ch_joined.persist()"
   ]
  },
  {
   "cell_type": "code",
   "execution_count": 77,
   "metadata": {},
   "outputs": [
    {
     "data": {
      "text/plain": [
       "[('Fri', (186742, 3295737)),\n",
       " ('Sun', (68141, 1256685)),\n",
       " ('Sat', (65750, 1175554)),\n",
       " ('Thu', (210916, 3751476)),\n",
       " ('Tue', (219982, 3916858)),\n",
       " ('Wed', (214576, 3823418)),\n",
       " ('Mon', (217968, 3919788))]"
      ]
     },
     "execution_count": 77,
     "metadata": {},
     "output_type": "execute_result"
    }
   ],
   "source": [
    "ch_joined.persist()\n",
    "ch_joined.take(10)"
   ]
  },
  {
   "cell_type": "code",
   "execution_count": 80,
   "metadata": {},
   "outputs": [],
   "source": [
    "ch_average_res = ch_joined.map(lambda x: (x[1][1]/x[1][0],x[0])).sortByKey(False)"
   ]
  },
  {
   "cell_type": "code",
   "execution_count": 81,
   "metadata": {},
   "outputs": [
    {
     "data": {
      "text/plain": [
       "[(18.44242086262309, 'Sun'),\n",
       " (17.983318652279234, 'Mon'),\n",
       " (17.879148288973383, 'Sat'),\n",
       " (17.818479233465066, 'Wed'),\n",
       " (17.80535680192016, 'Tue'),\n",
       " (17.78658802556468, 'Thu'),\n",
       " (17.648611453234945, 'Fri')]"
      ]
     },
     "execution_count": 81,
     "metadata": {},
     "output_type": "execute_result"
    }
   ],
   "source": [
    "ch_average_res.collect()"
   ]
  },
  {
   "cell_type": "code",
   "execution_count": null,
   "metadata": {},
   "outputs": [],
   "source": []
  }
 ],
 "metadata": {
  "colab": {
   "collapsed_sections": [],
   "name": "arxiv-metadata_Analysis (JSON_RDD).ipynb",
   "provenance": []
  },
  "kernelspec": {
   "display_name": "Python 3",
   "language": "python",
   "name": "python3"
  },
  "language_info": {
   "codemirror_mode": {
    "name": "ipython",
    "version": 3
   },
   "file_extension": ".py",
   "mimetype": "text/x-python",
   "name": "python",
   "nbconvert_exporter": "python",
   "pygments_lexer": "ipython3",
   "version": "3.8.3"
  }
 },
 "nbformat": 4,
 "nbformat_minor": 1
}
